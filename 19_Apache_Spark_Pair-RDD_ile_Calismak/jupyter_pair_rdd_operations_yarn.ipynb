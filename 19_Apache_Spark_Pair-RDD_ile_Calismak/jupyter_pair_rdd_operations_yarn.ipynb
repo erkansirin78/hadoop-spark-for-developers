{
 "cells": [
  {
   "cell_type": "code",
   "execution_count": 1,
   "metadata": {},
   "outputs": [],
   "source": [
    "import findspark\n",
    "findspark.init(\"/usr/hdp/current/spark2-client/\")"
   ]
  },
  {
   "cell_type": "code",
   "execution_count": 2,
   "metadata": {},
   "outputs": [],
   "source": [
    "from pyspark import SparkContext, SparkConf"
   ]
  },
  {
   "cell_type": "code",
   "execution_count": 3,
   "metadata": {},
   "outputs": [],
   "source": [
    "spark_conf = SparkConf() \\\n",
    ".setAppName(\"PairRDDOps_YARN\") \\\n",
    ".setMaster(\"yarn\") \\\n",
    ".set('spark.yarn.dist.files','file:/usr/hdp/current/spark2-client/python/lib/pyspark.zip,file:/usr/hdp/current/spark2-client/python/lib/py4j-0.10.4-src.zip') \\\n",
    ".setExecutorEnv('PYTHONPATH','pyspark.zip:py4j-0.10.4-src.zip')"
   ]
  },
  {
   "cell_type": "code",
   "execution_count": 4,
   "metadata": {},
   "outputs": [],
   "source": [
    "sc = SparkContext(conf=spark_conf)"
   ]
  },
  {
   "cell_type": "code",
   "execution_count": 5,
   "metadata": {},
   "outputs": [],
   "source": [
    "simple_data_rdd = sc.textFile(\"/user/erkan/simple_data.csv\")"
   ]
  },
  {
   "cell_type": "code",
   "execution_count": 6,
   "metadata": {},
   "outputs": [
    {
     "data": {
      "text/plain": [
       "['sirano,isim,yas,meslek,sehir,aylik_gelir',\n",
       " '1,Cemal,35,Isci,Ankara,3500',\n",
       " '2,Ceyda,42,Memur,Kayseri,4200']"
      ]
     },
     "execution_count": 6,
     "metadata": {},
     "output_type": "execute_result"
    }
   ],
   "source": [
    "simple_data_rdd.take(3)"
   ]
  },
  {
   "cell_type": "code",
   "execution_count": 7,
   "metadata": {},
   "outputs": [],
   "source": [
    "# İlk satırdan kurtulma\n",
    "simple_data_rdd2 = simple_data_rdd.filter(lambda x: 'sirano' not in x)"
   ]
  },
  {
   "cell_type": "code",
   "execution_count": 8,
   "metadata": {},
   "outputs": [
    {
     "data": {
      "text/plain": [
       "['1,Cemal,35,Isci,Ankara,3500',\n",
       " '2,Ceyda,42,Memur,Kayseri,4200',\n",
       " '3,Timur,30,Müzisyen,Istanbul,9000']"
      ]
     },
     "execution_count": 8,
     "metadata": {},
     "output_type": "execute_result"
    }
   ],
   "source": [
    "simple_data_rdd2.take(3)"
   ]
  },
  {
   "cell_type": "markdown",
   "metadata": {},
   "source": [
    "# Mesleklere Göre Ortalama Maaşlar"
   ]
  },
  {
   "cell_type": "code",
   "execution_count": 9,
   "metadata": {},
   "outputs": [
    {
     "data": {
      "text/plain": [
       "[('Isci', '3500'),\n",
       " ('Memur', '4200'),\n",
       " ('Müzisyen', '9000'),\n",
       " ('Pazarlamaci', '4200'),\n",
       " ('Pazarlamaci', '4800')]"
      ]
     },
     "execution_count": 9,
     "metadata": {},
     "output_type": "execute_result"
    }
   ],
   "source": [
    "# İhtiyacımız olan meslek ve maaşa ulaşalım\n",
    "simple_data_rdd2.map(lambda x: (x.split(\",\")[3], x.split(\",\")[-1])).take(5)"
   ]
  },
  {
   "cell_type": "code",
   "execution_count": 12,
   "metadata": {},
   "outputs": [],
   "source": [
    "meslek_maas_pair_rdd = simple_data_rdd2.map(lambda x: (x.split(\",\")[3], float(x.split(\",\")[-1])))"
   ]
  },
  {
   "cell_type": "code",
   "execution_count": 14,
   "metadata": {},
   "outputs": [
    {
     "data": {
      "text/plain": [
       "[('Memur', 12200.0),\n",
       " ('Pazarlamaci', 16300.0),\n",
       " ('Tuhafiyeci', 4800.0),\n",
       " ('Tornacı', 4200.0),\n",
       " ('Isci', 3500.0),\n",
       " ('Müzisyen', 29700.0),\n",
       " ('Doktor', 32250.0),\n",
       " ('Berber', 29600.0)]"
      ]
     },
     "execution_count": 14,
     "metadata": {},
     "output_type": "execute_result"
    }
   ],
   "source": [
    "# Acaba mesleklere göre toplam maaşlar ne kadar?\n",
    "meslek_maas_pair_rdd.reduceByKey(lambda x,y: x+y).take(15)"
   ]
  },
  {
   "cell_type": "code",
   "execution_count": 20,
   "metadata": {},
   "outputs": [
    {
     "data": {
      "text/plain": [
       "[('Isci', (3500.0, 1)),\n",
       " ('Memur', (4200.0, 1)),\n",
       " ('Müzisyen', (9000.0, 1)),\n",
       " ('Pazarlamaci', (4200.0, 1)),\n",
       " ('Pazarlamaci', (4800.0, 1))]"
      ]
     },
     "execution_count": 20,
     "metadata": {},
     "output_type": "execute_result"
    }
   ],
   "source": [
    "# \n",
    "meslek_maas_pair_rdd.mapValues(lambda x: (x,1)).take(5)"
   ]
  },
  {
   "cell_type": "code",
   "execution_count": 21,
   "metadata": {},
   "outputs": [
    {
     "data": {
      "text/plain": [
       "[('Memur', (12200.0, 3)),\n",
       " ('Pazarlamaci', (16300.0, 3)),\n",
       " ('Tuhafiyeci', (4800.0, 1)),\n",
       " ('Tornacı', (4200.0, 1)),\n",
       " ('Isci', (3500.0, 1))]"
      ]
     },
     "execution_count": 21,
     "metadata": {},
     "output_type": "execute_result"
    }
   ],
   "source": [
    "meslek_maas_pair_rdd.mapValues(lambda x: (x,1)) \\\n",
    ".reduceByKey(lambda x,y: (x[0] + y[0], x[1] + y[1] )) \\\n",
    ".take(5)"
   ]
  },
  {
   "cell_type": "code",
   "execution_count": 24,
   "metadata": {},
   "outputs": [
    {
     "data": {
      "text/plain": [
       "[('Memur', 4066.6666666666665),\n",
       " ('Pazarlamaci', 5433.333333333333),\n",
       " ('Tuhafiyeci', 4800.0),\n",
       " ('Tornacı', 4200.0),\n",
       " ('Isci', 3500.0)]"
      ]
     },
     "execution_count": 24,
     "metadata": {},
     "output_type": "execute_result"
    }
   ],
   "source": [
    "meslek_maas_pair_rdd.mapValues(lambda x: (x,1)) \\\n",
    ".reduceByKey(lambda x,y: (x[0] + y[0], x[1] + y[1] )) \\\n",
    ".mapValues(lambda x: (x[0] / x[1])) \\\n",
    ".take(5)"
   ]
  },
  {
   "cell_type": "code",
   "execution_count": 30,
   "metadata": {},
   "outputs": [
    {
     "data": {
      "text/plain": [
       "[('Doktor', 16125.0),\n",
       " ('Müzisyen', 9900.0),\n",
       " ('Berber', 9866.666666666666),\n",
       " ('Pazarlamaci', 5433.333333333333),\n",
       " ('Tuhafiyeci', 4800.0)]"
      ]
     },
     "execution_count": 30,
     "metadata": {},
     "output_type": "execute_result"
    }
   ],
   "source": [
    "meslek_maas_pair_rdd.mapValues(lambda x: (x,1)) \\\n",
    ".reduceByKey(lambda x,y: (x[0] + y[0], x[1] + y[1] )) \\\n",
    ".mapValues(lambda x: (x[0] / x[1])) \\\n",
    ".map(lambda x: (x[1], x[0])) \\\n",
    ".sortByKey(ascending=False) \\\n",
    ".map(lambda x: (x[1], x[0])) \\\n",
    ".take(5)"
   ]
  },
  {
   "cell_type": "code",
   "execution_count": null,
   "metadata": {},
   "outputs": [],
   "source": []
  }
 ],
 "metadata": {
  "kernelspec": {
   "display_name": "Python 3",
   "language": "python",
   "name": "python3"
  },
  "language_info": {
   "codemirror_mode": {
    "name": "ipython",
    "version": 3
   },
   "file_extension": ".py",
   "mimetype": "text/x-python",
   "name": "python",
   "nbconvert_exporter": "python",
   "pygments_lexer": "ipython3",
   "version": "3.6.7"
  }
 },
 "nbformat": 4,
 "nbformat_minor": 2
}
