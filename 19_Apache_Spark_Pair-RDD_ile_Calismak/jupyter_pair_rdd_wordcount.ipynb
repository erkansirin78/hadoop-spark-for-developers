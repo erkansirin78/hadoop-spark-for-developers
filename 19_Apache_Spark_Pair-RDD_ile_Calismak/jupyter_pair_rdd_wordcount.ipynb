{
 "cells": [
  {
   "cell_type": "code",
   "execution_count": 1,
   "metadata": {},
   "outputs": [],
   "source": [
    "import findspark\n",
    "findspark.init(\"/usr/hdp/current/spark2-client/\")\n",
    "\n",
    "from pyspark import SparkContext, SparkConf\n",
    "\n",
    "spark_conf = SparkConf() \\\n",
    ".setAppName(\"PairRDDWordCount\") \\\n",
    ".setMaster(\"yarn\") \\\n",
    ".set('spark.yarn.dist.files','file:/usr/hdp/current/spark2-client/python/lib/pyspark.zip,file:/usr/hdp/current/spark2-client/python/lib/py4j-0.10.4-src.zip') \\\n",
    ".setExecutorEnv('PYTHONPATH','pyspark.zip:py4j-0.10.4-src.zip')\n",
    "\n",
    "sc = SparkContext(conf=spark_conf)"
   ]
  },
  {
   "cell_type": "code",
   "execution_count": 2,
   "metadata": {},
   "outputs": [],
   "source": [
    "metin_rdd = sc.textFile(\"/user/erkan/basit_metin.txt\")"
   ]
  },
  {
   "cell_type": "code",
   "execution_count": 3,
   "metadata": {},
   "outputs": [
    {
     "data": {
      "text/plain": [
       "['Spark öğreniyorum.',\n",
       " 'Hem Python hem de Scala ile Spark kullanmak çok heyecan verici.']"
      ]
     },
     "execution_count": 3,
     "metadata": {},
     "output_type": "execute_result"
    }
   ],
   "source": [
    "metin_rdd.take(2)"
   ]
  },
  {
   "cell_type": "code",
   "execution_count": 5,
   "metadata": {},
   "outputs": [
    {
     "data": {
      "text/plain": [
       "['Spark', 'öğreniyorum.', 'Hem', 'Python', 'hem']"
      ]
     },
     "execution_count": 5,
     "metadata": {},
     "output_type": "execute_result"
    }
   ],
   "source": [
    "metin_rdd.flatMap(lambda x: x.split(\" \")).take(5)"
   ]
  },
  {
   "cell_type": "code",
   "execution_count": 6,
   "metadata": {},
   "outputs": [
    {
     "data": {
      "text/plain": [
       "[('Spark', 1), ('öğreniyorum.', 1), ('Hem', 1), ('Python', 1), ('hem', 1)]"
      ]
     },
     "execution_count": 6,
     "metadata": {},
     "output_type": "execute_result"
    }
   ],
   "source": [
    "metin_rdd.flatMap(lambda x: x.split(\" \")) \\\n",
    ".map(lambda x: (x,1)) \\\n",
    ".take(5)"
   ]
  },
  {
   "cell_type": "code",
   "execution_count": 8,
   "metadata": {},
   "outputs": [
    {
     "data": {
      "text/plain": [
       "[('Spark', 3), ('Hem', 1), ('Python', 2), ('hem', 3), ('ile', 1)]"
      ]
     },
     "execution_count": 8,
     "metadata": {},
     "output_type": "execute_result"
    }
   ],
   "source": [
    "metin_rdd.flatMap(lambda x: x.split(\" \")) \\\n",
    ".map(lambda x: (x,1)) \\\n",
    ".reduceByKey(lambda x,y: x+y) \\\n",
    ".take(5)"
   ]
  },
  {
   "cell_type": "code",
   "execution_count": 11,
   "metadata": {},
   "outputs": [
    {
     "data": {
      "text/plain": [
       "[(3, 'Spark'), (1, 'Hem'), (2, 'Python'), (3, 'hem'), (1, 'ile')]"
      ]
     },
     "execution_count": 11,
     "metadata": {},
     "output_type": "execute_result"
    }
   ],
   "source": [
    "metin_rdd.flatMap(lambda x: x.split(\" \")) \\\n",
    ".map(lambda x: (x,1)) \\\n",
    ".reduceByKey(lambda x,y: x+y) \\\n",
    ".map(lambda x: (x[1], x[0])) \\\n",
    ".take(5)"
   ]
  },
  {
   "cell_type": "code",
   "execution_count": 12,
   "metadata": {},
   "outputs": [
    {
     "data": {
      "text/plain": [
       "[('Spark', 3), ('hem', 3), ('Python', 2), ('de', 2), ('Scala', 2)]"
      ]
     },
     "execution_count": 12,
     "metadata": {},
     "output_type": "execute_result"
    }
   ],
   "source": [
    "metin_rdd.flatMap(lambda x: x.split(\" \")) \\\n",
    ".map(lambda x: (x,1)) \\\n",
    ".reduceByKey(lambda x,y: x+y) \\\n",
    ".map(lambda x: (x[1], x[0])) \\\n",
    ".sortByKey(ascending=False) \\\n",
    ".map(lambda x: (x[1], x[0])) \\\n",
    ".take(5)"
   ]
  },
  {
   "cell_type": "code",
   "execution_count": null,
   "metadata": {},
   "outputs": [],
   "source": []
  }
 ],
 "metadata": {
  "kernelspec": {
   "display_name": "Python 3",
   "language": "python",
   "name": "python3"
  },
  "language_info": {
   "codemirror_mode": {
    "name": "ipython",
    "version": 3
   },
   "file_extension": ".py",
   "mimetype": "text/x-python",
   "name": "python",
   "nbconvert_exporter": "python",
   "pygments_lexer": "ipython3",
   "version": "3.6.7"
  }
 },
 "nbformat": 4,
 "nbformat_minor": 2
}
