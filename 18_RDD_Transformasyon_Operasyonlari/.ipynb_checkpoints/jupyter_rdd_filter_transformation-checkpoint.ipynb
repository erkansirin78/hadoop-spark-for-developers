{
 "cells": [
  {
   "cell_type": "code",
   "execution_count": 1,
   "metadata": {},
   "outputs": [],
   "source": [
    "import findspark\n",
    "findspark.init(\"D:/spark\")"
   ]
  },
  {
   "cell_type": "code",
   "execution_count": 2,
   "metadata": {},
   "outputs": [],
   "source": [
    "# Create SparkContext\n",
    "from pyspark.sql import SparkSession\n",
    "from pyspark.conf import SparkConf"
   ]
  },
  {
   "cell_type": "code",
   "execution_count": 3,
   "metadata": {},
   "outputs": [],
   "source": [
    "# Aşağıdaki ayarları bilgisayarınızın belleğine göre değiştirebilirsiniz\n",
    "spark = SparkSession.builder \\\n",
    ".master(\"local[4]\") \\\n",
    ".appName(\"FilterTransformation\") \\\n",
    ".getOrCreate()\n",
    "\n",
    "# sparkContext'i kısaltmada tut\n",
    "sc = spark.sparkContext"
   ]
  },
  {
   "cell_type": "code",
   "execution_count": 6,
   "metadata": {},
   "outputs": [],
   "source": [
    "retailRDD = sc.textFile(\"D:/Datasets/OnlineRetail.csv\")"
   ]
  },
  {
   "cell_type": "code",
   "execution_count": 7,
   "metadata": {},
   "outputs": [
    {
     "data": {
      "text/plain": [
       "['InvoiceNo;StockCode;Description;Quantity;InvoiceDate;UnitPrice;CustomerID;Country',\n",
       " '536365;85123A;WHITE HANGING HEART T-LIGHT HOLDER;6;1.12.2010 08:26;2,55;17850;United Kingdom',\n",
       " '536365;71053;WHITE METAL LANTERN;6;1.12.2010 08:26;3,39;17850;United Kingdom',\n",
       " '536365;84406B;CREAM CUPID HEARTS COAT HANGER;8;1.12.2010 08:26;2,75;17850;United Kingdom',\n",
       " '536365;84029G;KNITTED UNION FLAG HOT WATER BOTTLE;6;1.12.2010 08:26;3,39;17850;United Kingdom']"
      ]
     },
     "execution_count": 7,
     "metadata": {},
     "output_type": "execute_result"
    }
   ],
   "source": [
    "retailRDD.take(5)"
   ]
  },
  {
   "cell_type": "code",
   "execution_count": 8,
   "metadata": {},
   "outputs": [],
   "source": [
    "retailRDDWithoutHeader = retailRDD.filter(lambda x: \"InvoiceNo\" not in x)"
   ]
  },
  {
   "cell_type": "code",
   "execution_count": 9,
   "metadata": {},
   "outputs": [
    {
     "data": {
      "text/plain": [
       "['536365;85123A;WHITE HANGING HEART T-LIGHT HOLDER;6;1.12.2010 08:26;2,55;17850;United Kingdom',\n",
       " '536365;71053;WHITE METAL LANTERN;6;1.12.2010 08:26;3,39;17850;United Kingdom',\n",
       " '536365;84406B;CREAM CUPID HEARTS COAT HANGER;8;1.12.2010 08:26;2,75;17850;United Kingdom',\n",
       " '536365;84029G;KNITTED UNION FLAG HOT WATER BOTTLE;6;1.12.2010 08:26;3,39;17850;United Kingdom',\n",
       " '536365;84029E;RED WOOLLY HOTTIE WHITE HEART.;6;1.12.2010 08:26;3,39;17850;United Kingdom']"
      ]
     },
     "execution_count": 9,
     "metadata": {},
     "output_type": "execute_result"
    }
   ],
   "source": [
    "retailRDDWithoutHeader.take(5)"
   ]
  },
  {
   "cell_type": "markdown",
   "metadata": {},
   "source": [
    "## Birim miktarı 30'dan büyük olanları filtrele"
   ]
  },
  {
   "cell_type": "code",
   "execution_count": 10,
   "metadata": {},
   "outputs": [
    {
     "data": {
      "text/plain": [
       "['536367;84879;ASSORTED COLOUR BIRD ORNAMENT;32;1.12.2010 08:34;1,69;13047;United Kingdom',\n",
       " '536370;10002;INFLATABLE POLITICAL GLOBE;48;1.12.2010 08:45;0,85;12583;France',\n",
       " '536370;22492;MINI PAINT SET VINTAGE;36;1.12.2010 08:45;0,65;12583;France',\n",
       " \"536371;22086;PAPER CHAIN KIT 50'S CHRISTMAS;80;1.12.2010 09:00;2,55;13748;United Kingdom\",\n",
       " '536374;21258;VICTORIAN SEWING BOX LARGE;32;1.12.2010 09:09;10,95;15100;United Kingdom']"
      ]
     },
     "execution_count": 10,
     "metadata": {},
     "output_type": "execute_result"
    }
   ],
   "source": [
    "retailRDDWithoutHeader.filter(lambda x: int(x.split(\";\")[3]) > 30).take(5)"
   ]
  },
  {
   "cell_type": "markdown",
   "metadata": {},
   "source": [
    "## Ürün isimlerinden COFFEE içerenleri filtreleme"
   ]
  },
  {
   "cell_type": "code",
   "execution_count": 11,
   "metadata": {},
   "outputs": [
    {
     "data": {
      "text/plain": [
       "['536373;37370;RETRO COFFEE MUGS ASSORTED;6;1.12.2010 09:02;1,06;17850;United Kingdom',\n",
       " '536375;37370;RETRO COFFEE MUGS ASSORTED;6;1.12.2010 09:32;1,06;17850;United Kingdom',\n",
       " '536396;37370;RETRO COFFEE MUGS ASSORTED;6;1.12.2010 10:51;1,06;17850;United Kingdom',\n",
       " '536406;37370;RETRO COFFEE MUGS ASSORTED;6;1.12.2010 11:33;1,06;17850;United Kingdom',\n",
       " '536522;37370;RETRO COFFEE MUGS ASSORTED;2;1.12.2010 12:49;1,25;15012;United Kingdom',\n",
       " '536530;21662;VINTAGE GLASS COFFEE CADDY;1;1.12.2010 13:21;5,95;17905;United Kingdom',\n",
       " '536544;22300;COFFEE MUG DOG + BALL DESIGN;1;1.12.2010 14:32;5,06;000000;United Kingdom',\n",
       " '536544;22301;COFFEE MUG CAT + BIRD DESIGN;2;1.12.2010 14:32;5,06;000000;United Kingdom',\n",
       " '536544;37370;RETRO COFFEE MUGS ASSORTED;1;1.12.2010 14:32;16,13;000000;United Kingdom',\n",
       " '536544;21216;SET 3 RETROSPOT TEA,COFFEE,SUGAR;1;1.12.2010 14:32;11,02;000000;United Kingdom']"
      ]
     },
     "execution_count": 11,
     "metadata": {},
     "output_type": "execute_result"
    }
   ],
   "source": [
    "retailRDDWithoutHeader.filter(lambda x: 'COFFEE' in x.split(\";\")[2]).take(10)"
   ]
  },
  {
   "cell_type": "code",
   "execution_count": 14,
   "metadata": {},
   "outputs": [],
   "source": [
    "# Birim miktarı 30'dan büyük olanları ve \n",
    "# Ürün isimlerinden COFFEE içerenleri filtreleme\n",
    "def multiple_filter(x):\n",
    "    quantity = int(x.split(\";\")[3])\n",
    "    description = x.split(\";\")[2]\n",
    "    \n",
    "    \n",
    "    return (quantity > 30) & ('COFFEE' in description)"
   ]
  },
  {
   "cell_type": "code",
   "execution_count": 15,
   "metadata": {},
   "outputs": [
    {
     "data": {
      "text/plain": [
       "['536804;37370;RETRO COFFEE MUGS ASSORTED;72;2.12.2010 16:34;1,06;14031;United Kingdom',\n",
       " '538165;37370;RETRO COFFEE MUGS ASSORTED;72;9.12.2010 17:34;1,06;14031;United Kingdom',\n",
       " '538648;21662;VINTAGE GLASS COFFEE CADDY;48;13.12.2010 14:56;5,45;17937;United Kingdom',\n",
       " '539106;22302;COFFEE MUG PEARS  DESIGN;36;16.12.2010 10:51;2,1;16705;United Kingdom',\n",
       " '539303;22971;QUEENS GUARD COFFEE MUG;36;16.12.2010 17:34;2,1;16684;United Kingdom',\n",
       " '539303;22970;LONDON BUS COFFEE MUG;36;16.12.2010 17:34;2,1;16684;United Kingdom',\n",
       " '539443;37370;RETRO COFFEE MUGS ASSORTED;72;17.12.2010 15:52;1,06;14031;United Kingdom',\n",
       " '540122;85159B;WHITE TEA,COFFEE,SUGAR JARS;48;5.01.2011 10:39;1,25;13694;United Kingdom',\n",
       " '540176;22970;LONDON BUS COFFEE MUG;36;5.01.2011 12:40;2,1;17511;United Kingdom',\n",
       " '540176;22303;COFFEE MUG APPLES DESIGN;36;5.01.2011 12:40;2,1;17511;United Kingdom']"
      ]
     },
     "execution_count": 15,
     "metadata": {},
     "output_type": "execute_result"
    }
   ],
   "source": [
    "retailRDDWithoutHeader.filter(lambda x: multiple_filter(x)).take(10)"
   ]
  }
 ],
 "metadata": {
  "kernelspec": {
   "display_name": "Python 3",
   "language": "python",
   "name": "python3"
  },
  "language_info": {
   "codemirror_mode": {
    "name": "ipython",
    "version": 3
   },
   "file_extension": ".py",
   "mimetype": "text/x-python",
   "name": "python",
   "nbconvert_exporter": "python",
   "pygments_lexer": "ipython3",
   "version": "3.6.8"
  }
 },
 "nbformat": 4,
 "nbformat_minor": 2
}
