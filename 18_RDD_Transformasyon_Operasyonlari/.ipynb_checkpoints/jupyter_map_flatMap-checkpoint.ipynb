{
 "cells": [
  {
   "cell_type": "code",
   "execution_count": 3,
   "metadata": {},
   "outputs": [],
   "source": [
    "import findspark\n",
    "findspark.init(\"D:/spark\")"
   ]
  },
  {
   "cell_type": "code",
   "execution_count": 4,
   "metadata": {},
   "outputs": [],
   "source": [
    "from pyspark import SparkContext"
   ]
  },
  {
   "cell_type": "code",
   "execution_count": 5,
   "metadata": {},
   "outputs": [],
   "source": [
    "# SparkContext oluşturma\n",
    "sc = SparkContext(\"local[4]\",\"map_flatMap\")"
   ]
  },
  {
   "cell_type": "code",
   "execution_count": 6,
   "metadata": {},
   "outputs": [],
   "source": [
    "# csv dosyası okuma\n",
    "insanlarRDD2 = sc.textFile(\"D:/Datasets/simple_data.csv\")"
   ]
  },
  {
   "cell_type": "code",
   "execution_count": 7,
   "metadata": {},
   "outputs": [],
   "source": [
    "# header'dan kurtulma\n",
    "insanlarRDD = insanlarRDD2.filter(lambda x: \"sirano\" not in x)"
   ]
  },
  {
   "cell_type": "code",
   "execution_count": 8,
   "metadata": {},
   "outputs": [
    {
     "data": {
      "text/plain": [
       "['1,Cemal,35,Isci,Ankara,3500',\n",
       " '2,Ceyda,42,Memur,Kayseri,4200',\n",
       " '3,Timur,30,Müzisyen,Istanbul,9000',\n",
       " '4,Burcu,29,Pazarlamaci,Ankara,4200',\n",
       " '5,Yasemin,23,,Bursa,4800']"
      ]
     },
     "execution_count": 8,
     "metadata": {},
     "output_type": "execute_result"
    }
   ],
   "source": [
    "# Okunan dosyaya gözatma\n",
    "insanlarRDD.take(5)"
   ]
  },
  {
   "cell_type": "code",
   "execution_count": 12,
   "metadata": {},
   "outputs": [
    {
     "data": {
      "text/plain": [
       "['1,CEMAL,35,ISCI,ANKARA,3500',\n",
       " '2,CEYDA,42,MEMUR,KAYSERI,4200',\n",
       " '3,TIMUR,30,MÜZISYEN,ISTANBUL,9000',\n",
       " '4,BURCU,29,PAZARLAMACI,ANKARA,4200',\n",
       " '5,YASEMIN,23,,BURSA,4800']"
      ]
     },
     "execution_count": 12,
     "metadata": {},
     "output_type": "execute_result"
    }
   ],
   "source": [
    "# map() transformation: transformasyon satırın tümüne uygulanır\n",
    "insanlarRDD.map(lambda x: x.upper()).take(5)"
   ]
  },
  {
   "cell_type": "code",
   "execution_count": 10,
   "metadata": {},
   "outputs": [
    {
     "data": {
      "text/plain": [
       "['1', ',', 'C', 'E', 'M', 'A', 'L', ',', '3', '5', ',', 'I', 'S', 'C', 'I']"
      ]
     },
     "execution_count": 10,
     "metadata": {},
     "output_type": "execute_result"
    }
   ],
   "source": [
    "# flatMap(): transformasyon bir birime uygulanır. split ile herhangi birşey belirtilmemişse her bir karaktere uygulanır.\n",
    "insanlarRDD.flatMap(lambda x: x.upper()).take(15)"
   ]
  },
  {
   "cell_type": "code",
   "execution_count": 13,
   "metadata": {},
   "outputs": [
    {
     "data": {
      "text/plain": [
       "['1',\n",
       " 'CEMAL',\n",
       " '35',\n",
       " 'ISCI',\n",
       " 'ANKARA',\n",
       " '3500',\n",
       " '2',\n",
       " 'CEYDA',\n",
       " '42',\n",
       " 'MEMUR',\n",
       " 'KAYSERI',\n",
       " '4200',\n",
       " '3',\n",
       " 'TIMUR',\n",
       " '30']"
      ]
     },
     "execution_count": 13,
     "metadata": {},
     "output_type": "execute_result"
    }
   ],
   "source": [
    "# flatMap() transformation: split ile boşluktan ayırdık ve transformasyon karakterden kelimeye dönüştü.\n",
    "insanlarRDD.flatMap(lambda x: x.split(\",\")).map(lambda x: x.upper()).take(15)"
   ]
  },
  {
   "cell_type": "code",
   "execution_count": null,
   "metadata": {},
   "outputs": [],
   "source": []
  }
 ],
 "metadata": {
  "kernelspec": {
   "display_name": "Python 3",
   "language": "python",
   "name": "python3"
  },
  "language_info": {
   "codemirror_mode": {
    "name": "ipython",
    "version": 3
   },
   "file_extension": ".py",
   "mimetype": "text/x-python",
   "name": "python",
   "nbconvert_exporter": "python",
   "pygments_lexer": "ipython3",
   "version": "3.6.8"
  }
 },
 "nbformat": 4,
 "nbformat_minor": 2
}
