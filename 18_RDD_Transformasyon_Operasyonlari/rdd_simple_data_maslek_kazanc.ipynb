{
 "cells": [
  {
   "cell_type": "code",
   "execution_count": 1,
   "metadata": {},
   "outputs": [],
   "source": [
    "import findspark\n",
    "findspark.init(\"D:/spark\")"
   ]
  },
  {
   "cell_type": "code",
   "execution_count": 2,
   "metadata": {},
   "outputs": [],
   "source": [
    "from pyspark import SparkContext"
   ]
  },
  {
   "cell_type": "code",
   "execution_count": 3,
   "metadata": {},
   "outputs": [],
   "source": [
    "sc = SparkContext(\"local[4]\", \"MeslekKazanc\")"
   ]
  },
  {
   "cell_type": "code",
   "execution_count": 4,
   "metadata": {},
   "outputs": [],
   "source": [
    "simple_data_rdd = sc.textFile(\"D:/Datasets/simple_data.csv\").filter(lambda x: \"sirano\" not in x)"
   ]
  },
  {
   "cell_type": "code",
   "execution_count": 5,
   "metadata": {},
   "outputs": [
    {
     "data": {
      "text/plain": [
       "['1,Cemal,35,Isci,Ankara,3500',\n",
       " '2,Ceyda,42,Memur,Kayseri,4200',\n",
       " '3,Timur,30,Müzisyen,Istanbul,9000']"
      ]
     },
     "execution_count": 5,
     "metadata": {},
     "output_type": "execute_result"
    }
   ],
   "source": [
    "simple_data_rdd.take(3)"
   ]
  },
  {
   "cell_type": "code",
   "execution_count": 35,
   "metadata": {},
   "outputs": [],
   "source": [
    "def impute_meslek(line):\n",
    "    sirano = line.split(\",\")[0]\n",
    "    isim = line.split(\",\")[1]\n",
    "    yas = line.split(\",\")[2]\n",
    "    meslek = line.split(\",\")[3]\n",
    "    sehir = line.split(\",\")[4]\n",
    "    maas = line.split(\",\")[5]\n",
    "    if meslek == '':\n",
    "        return sirano, isim, yas, 'Unknown', sehir, maas \n",
    "    else:\n",
    "        return sirano, isim, yas, meslek, sehir, maas"
   ]
  },
  {
   "cell_type": "code",
   "execution_count": 36,
   "metadata": {},
   "outputs": [
    {
     "data": {
      "text/plain": [
       "[('1', 'Cemal', '35', 'Isci', 'Ankara', '3500'),\n",
       " ('2', 'Ceyda', '42', 'Memur', 'Kayseri', '4200'),\n",
       " ('3', 'Timur', '30', 'Müzisyen', 'Istanbul', '9000'),\n",
       " ('4', 'Burcu', '29', 'Pazarlamaci', 'Ankara', '4200'),\n",
       " ('5', 'Yasemin', '23', 'Unknown', 'Bursa', '4800'),\n",
       " ('6', 'Ali', '33', 'Memur', 'Ankara', '4250'),\n",
       " ('7', 'Dilek', '29', 'Pazarlamaci', 'Istanbul', '7300'),\n",
       " ('8', 'Murat', '31', 'Müzisyen', 'Istanbul', '12000'),\n",
       " ('9', 'Ahmet', '33', 'Doktor', 'Ankara', '18000'),\n",
       " ('10', 'Muhittin', '46', 'Berber', 'Istanbul', '12000'),\n",
       " ('11', 'Hicaziye', '47', 'Tuhafiyeci', 'Ankara', '4800'),\n",
       " ('12', 'Harun', '43', 'Tornacı', 'Ankara', '4200'),\n",
       " ('13', 'Hakkı', '33', 'Memur', 'Çorum', '3750'),\n",
       " ('14', 'Gülizar', '37', 'Doktor', 'İzmir', '14250'),\n",
       " ('15', 'Şehmuz', '41', 'Unknown', 'Ankara', '8700'),\n",
       " ('16', 'Gençay', '46', 'Berber', 'Ankara', '8800'),\n",
       " ('16', 'Gençay', '46', 'Berber', 'Ankara', '8800')]"
      ]
     },
     "execution_count": 36,
     "metadata": {},
     "output_type": "execute_result"
    }
   ],
   "source": [
    "simple_data_rdd_imputed = simple_data_rdd.map(impute_meslek)\n",
    "simple_data_rdd_imputed.take(20)"
   ]
  },
  {
   "cell_type": "code",
   "execution_count": 37,
   "metadata": {},
   "outputs": [],
   "source": [
    "#artık split etmeye gerek yok çünkü satırlar tuple oldu\n",
    "def take_meslek_kazanc(line):\n",
    "    meslek = line[3]\n",
    "    kazanc = float(line[-1])\n",
    "    \n",
    "    return (meslek, kazanc)"
   ]
  },
  {
   "cell_type": "code",
   "execution_count": 38,
   "metadata": {},
   "outputs": [],
   "source": [
    "meslek_kazanc_rdd = simple_data_rdd_imputed.map(take_meslek_kazanc)"
   ]
  },
  {
   "cell_type": "code",
   "execution_count": 39,
   "metadata": {},
   "outputs": [
    {
     "data": {
      "text/plain": [
       "[('Isci', 3500.0), ('Memur', 4200.0), ('Müzisyen', 9000.0)]"
      ]
     },
     "execution_count": 39,
     "metadata": {},
     "output_type": "execute_result"
    }
   ],
   "source": [
    "meslek_kazanc_rdd.take(3)"
   ]
  },
  {
   "cell_type": "code",
   "execution_count": 40,
   "metadata": {},
   "outputs": [
    {
     "data": {
      "text/plain": [
       "[('Memur', 12200.0),\n",
       " ('Pazarlamaci', 11500.0),\n",
       " ('Unknown', 13500.0),\n",
       " ('Tuhafiyeci', 4800.0),\n",
       " ('Tornacı', 4200.0),\n",
       " ('Isci', 3500.0),\n",
       " ('Müzisyen', 21000.0),\n",
       " ('Doktor', 32250.0),\n",
       " ('Berber', 29600.0)]"
      ]
     },
     "execution_count": 40,
     "metadata": {},
     "output_type": "execute_result"
    }
   ],
   "source": [
    "meslek_kazanc_rdd_rbk = meslek_kazanc_rdd.reduceByKey(lambda x,y: x+y)\n",
    "meslek_kazanc_rdd_rbk.take(20)"
   ]
  },
  {
   "cell_type": "code",
   "execution_count": 41,
   "metadata": {},
   "outputs": [
    {
     "data": {
      "text/plain": [
       "[('Doktor', 32250.0),\n",
       " ('Berber', 29600.0),\n",
       " ('Müzisyen', 21000.0),\n",
       " ('Unknown', 13500.0),\n",
       " ('Memur', 12200.0),\n",
       " ('Pazarlamaci', 11500.0),\n",
       " ('Tuhafiyeci', 4800.0),\n",
       " ('Tornacı', 4200.0),\n",
       " ('Isci', 3500.0)]"
      ]
     },
     "execution_count": 41,
     "metadata": {},
     "output_type": "execute_result"
    }
   ],
   "source": [
    "# Geliri yüksek olandan düşük olana doğru sıralayınız.\n",
    "meslek_kazanc_rdd_rbk.sortBy(lambda x: x[1], ascending=False).take(10)"
   ]
  },
  {
   "cell_type": "code",
   "execution_count": null,
   "metadata": {},
   "outputs": [],
   "source": []
  }
 ],
 "metadata": {
  "kernelspec": {
   "display_name": "Python 3",
   "language": "python",
   "name": "python3"
  },
  "language_info": {
   "codemirror_mode": {
    "name": "ipython",
    "version": 3
   },
   "file_extension": ".py",
   "mimetype": "text/x-python",
   "name": "python",
   "nbconvert_exporter": "python",
   "pygments_lexer": "ipython3",
   "version": "3.6.8"
  }
 },
 "nbformat": 4,
 "nbformat_minor": 2
}
