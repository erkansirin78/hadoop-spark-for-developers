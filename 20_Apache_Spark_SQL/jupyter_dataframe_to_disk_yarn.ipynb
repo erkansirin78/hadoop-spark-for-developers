{
 "cells": [
  {
   "cell_type": "code",
   "execution_count": 1,
   "metadata": {},
   "outputs": [],
   "source": [
    "import findspark\n",
    "findspark.init(\"/usr/hdp/current/spark2-client/\")\n",
    "\n",
    "from pyspark.sql import SparkSession\n",
    "\n",
    "spark = SparkSession.builder \\\n",
    ".appName(\"DataframeToDisk_YARN\") \\\n",
    ".master(\"yarn\") \\\n",
    ".getOrCreate()"
   ]
  },
  {
   "cell_type": "code",
   "execution_count": 2,
   "metadata": {},
   "outputs": [],
   "source": [
    "from pyspark.sql.types import *\n",
    "\n",
    "schema = StructType([\n",
    "    \n",
    "StructField(\"sirano\", IntegerType(), True),\n",
    "StructField(\"isim\", StringType(), True),\n",
    "StructField(\"yas\", IntegerType(), True),\n",
    "StructField(\"meslek\", StringType(), True),\n",
    "StructField(\"sehir\", StringType(), True),\n",
    "StructField(\"aylik_gelir\", DoubleType(), True)\n",
    "\n",
    "])"
   ]
  },
  {
   "cell_type": "code",
   "execution_count": 3,
   "metadata": {},
   "outputs": [],
   "source": [
    "df = spark.read.format(\"csv\") \\\n",
    ".option(\"header\", True) \\\n",
    ".option(\"sep\", \",\") \\\n",
    ".schema(schema) \\\n",
    ".load(\"/user/erkan/simple_data.csv\")"
   ]
  },
  {
   "cell_type": "code",
   "execution_count": 4,
   "metadata": {},
   "outputs": [
    {
     "name": "stdout",
     "output_type": "stream",
     "text": [
      "+------+--------+---+-----------+--------+-----------+--------------------+\n",
      "|sirano|    isim|yas|     meslek|   sehir|aylik_gelir|        meslek_sehir|\n",
      "+------+--------+---+-----------+--------+-----------+--------------------+\n",
      "|     1|   Cemal| 35|       Isci|  Ankara|     3500.0|       Isci - Ankara|\n",
      "|     2|   Ceyda| 42|      Memur| Kayseri|     4200.0|     Memur - Kayseri|\n",
      "|     3|   Timur| 30|   Müzisyen|Istanbul|     9000.0| Müzisyen - Istanbul|\n",
      "|     4|   Burcu| 29|Pazarlamaci|  Ankara|     4200.0|Pazarlamaci - Ankara|\n",
      "|     5| Yasemin| 23|Pazarlamaci|   Bursa|     4800.0| Pazarlamaci - Bursa|\n",
      "|     6|     Ali| 33|      Memur|  Ankara|     4250.0|      Memur - Ankara|\n",
      "|     7|   Dilek| 29|Pazarlamaci|Istanbul|     7300.0|Pazarlamaci - Ist...|\n",
      "|     8|   Murat| 31|   Müzisyen|Istanbul|    12000.0| Müzisyen - Istanbul|\n",
      "|     9|   Ahmet| 33|     Doktor|  Ankara|    18000.0|     Doktor - Ankara|\n",
      "|    10|Muhittin| 46|     Berber|Istanbul|    12000.0|   Berber - Istanbul|\n",
      "|    11|Hicaziye| 47| Tuhafiyeci|  Ankara|     4800.0| Tuhafiyeci - Ankara|\n",
      "|    12|   Harun| 43|    Tornacı|  Ankara|     4200.0|    Tornacı - Ankara|\n",
      "|    13|   Hakkı| 33|      Memur|   Çorum|     3750.0|       Memur - Çorum|\n",
      "|    14| Gülizar| 37|     Doktor|   İzmir|    14250.0|      Doktor - İzmir|\n",
      "|    15|  Şehmuz| 41|   Müzisyen|  Ankara|     8700.0|   Müzisyen - Ankara|\n",
      "|    16|  Gençay| 46|     Berber|  Ankara|     8800.0|     Berber - Ankara|\n",
      "|    16|  Gençay| 46|     Berber|  Ankara|     8800.0|     Berber - Ankara|\n",
      "+------+--------+---+-----------+--------+-----------+--------------------+\n",
      "\n"
     ]
    }
   ],
   "source": [
    "from pyspark.sql import functions as f\n",
    "df2 = df.withColumn(\"meslek_sehir\", f.concat(f.col(\"meslek\"), f.lit(\" - \"), f.col(\"sehir\")))\n",
    "df2.show()"
   ]
  },
  {
   "cell_type": "code",
   "execution_count": 6,
   "metadata": {},
   "outputs": [],
   "source": [
    "df2.coalesce(1) \\\n",
    ".write \\\n",
    ".mode(\"overwrite\") \\\n",
    ".option(\"sep\",\",\") \\\n",
    ".option(\"header\",\"true\") \\\n",
    ".csv(\"/user/erkan/simple_data2\")"
   ]
  },
  {
   "cell_type": "code",
   "execution_count": null,
   "metadata": {},
   "outputs": [],
   "source": []
  }
 ],
 "metadata": {
  "kernelspec": {
   "display_name": "Python 3",
   "language": "python",
   "name": "python3"
  },
  "language_info": {
   "codemirror_mode": {
    "name": "ipython",
    "version": 3
   },
   "file_extension": ".py",
   "mimetype": "text/x-python",
   "name": "python",
   "nbconvert_exporter": "python",
   "pygments_lexer": "ipython3",
   "version": "3.6.7"
  }
 },
 "nbformat": 4,
 "nbformat_minor": 2
}
