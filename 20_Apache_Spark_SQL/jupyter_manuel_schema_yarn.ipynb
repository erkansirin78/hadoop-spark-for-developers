{
 "cells": [
  {
   "cell_type": "code",
   "execution_count": 1,
   "metadata": {},
   "outputs": [],
   "source": [
    "import findspark\n",
    "findspark.init(\"/usr/hdp/current/spark2-client/\")\n",
    "\n",
    "from pyspark.sql import SparkSession\n",
    "\n",
    "spark = SparkSession.builder \\\n",
    ".appName(\"ManuelSchema\") \\\n",
    ".master(\"yarn\") \\\n",
    ".getOrCreate()"
   ]
  },
  {
   "cell_type": "code",
   "execution_count": 8,
   "metadata": {},
   "outputs": [],
   "source": [
    "from pyspark.sql.types import *\n",
    "\n",
    "schema = StructType([\n",
    "    \n",
    "StructField(\"sirano\", IntegerType(), True),\n",
    "StructField(\"isim\", StringType(), True),\n",
    "StructField(\"yas\", IntegerType(), True),\n",
    "StructField(\"meslek\", StringType(), True),\n",
    "StructField(\"sehir\", StringType(), True),\n",
    "StructField(\"aylik_gelir\", DoubleType(), True)\n",
    "\n",
    "])"
   ]
  },
  {
   "cell_type": "code",
   "execution_count": 9,
   "metadata": {},
   "outputs": [],
   "source": [
    "df = spark.read.format(\"csv\") \\\n",
    ".option(\"header\", True) \\\n",
    ".option(\"sep\", \",\") \\\n",
    ".schema(schema) \\\n",
    ".load(\"/user/erkan/simple_data.csv\")"
   ]
  },
  {
   "cell_type": "code",
   "execution_count": 10,
   "metadata": {},
   "outputs": [
    {
     "name": "stdout",
     "output_type": "stream",
     "text": [
      "root\n",
      " |-- sirano: integer (nullable = true)\n",
      " |-- isim: string (nullable = true)\n",
      " |-- yas: integer (nullable = true)\n",
      " |-- meslek: string (nullable = true)\n",
      " |-- sehir: string (nullable = true)\n",
      " |-- aylik_gelir: double (nullable = true)\n",
      "\n"
     ]
    }
   ],
   "source": [
    "df.printSchema()"
   ]
  },
  {
   "cell_type": "code",
   "execution_count": 11,
   "metadata": {},
   "outputs": [
    {
     "name": "stdout",
     "output_type": "stream",
     "text": [
      "+------+--------+---+-----------+--------+-----------+\n",
      "|sirano|    isim|yas|     meslek|   sehir|aylik_gelir|\n",
      "+------+--------+---+-----------+--------+-----------+\n",
      "|     1|   Cemal| 35|       Isci|  Ankara|     3500.0|\n",
      "|     2|   Ceyda| 42|      Memur| Kayseri|     4200.0|\n",
      "|     3|   Timur| 30|   Müzisyen|Istanbul|     9000.0|\n",
      "|     4|   Burcu| 29|Pazarlamaci|  Ankara|     4200.0|\n",
      "|     5| Yasemin| 23|Pazarlamaci|   Bursa|     4800.0|\n",
      "|     6|     Ali| 33|      Memur|  Ankara|     4250.0|\n",
      "|     7|   Dilek| 29|Pazarlamaci|Istanbul|     7300.0|\n",
      "|     8|   Murat| 31|   Müzisyen|Istanbul|    12000.0|\n",
      "|     9|   Ahmet| 33|     Doktor|  Ankara|    18000.0|\n",
      "|    10|Muhittin| 46|     Berber|Istanbul|    12000.0|\n",
      "|    11|Hicaziye| 47| Tuhafiyeci|  Ankara|     4800.0|\n",
      "|    12|   Harun| 43|    Tornacı|  Ankara|     4200.0|\n",
      "|    13|   Hakkı| 33|      Memur|   Çorum|     3750.0|\n",
      "|    14| Gülizar| 37|     Doktor|   İzmir|    14250.0|\n",
      "|    15|  Şehmuz| 41|   Müzisyen|  Ankara|     8700.0|\n",
      "|    16|  Gençay| 46|     Berber|  Ankara|     8800.0|\n",
      "|    16|  Gençay| 46|     Berber|  Ankara|     8800.0|\n",
      "+------+--------+---+-----------+--------+-----------+\n",
      "\n"
     ]
    }
   ],
   "source": [
    "df.show()"
   ]
  },
  {
   "cell_type": "code",
   "execution_count": null,
   "metadata": {},
   "outputs": [],
   "source": []
  }
 ],
 "metadata": {
  "kernelspec": {
   "display_name": "Python 3",
   "language": "python",
   "name": "python3"
  },
  "language_info": {
   "codemirror_mode": {
    "name": "ipython",
    "version": 3
   },
   "file_extension": ".py",
   "mimetype": "text/x-python",
   "name": "python",
   "nbconvert_exporter": "python",
   "pygments_lexer": "ipython3",
   "version": "3.6.7"
  }
 },
 "nbformat": 4,
 "nbformat_minor": 2
}
