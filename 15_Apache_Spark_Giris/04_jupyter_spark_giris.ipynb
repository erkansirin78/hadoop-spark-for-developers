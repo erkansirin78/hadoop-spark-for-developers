{
 "cells": [
  {
   "cell_type": "code",
   "execution_count": 1,
   "metadata": {},
   "outputs": [],
   "source": [
    "import findspark\n",
    "findspark.init(\"/usr/hdp/current/spark2-client/\")\n",
    "\n",
    "from pyspark.sql import functions as F\n",
    "from pyspark.sql import SparkSession\n",
    "\n",
    "spark = SparkSession.builder \\\n",
    ".appName(\"Jupyter_Spark_Giris\") \\\n",
    ".master(\"yarn\") \\\n",
    ".getOrCreate()"
   ]
  },
  {
   "cell_type": "code",
   "execution_count": 2,
   "metadata": {},
   "outputs": [],
   "source": [
    "df = spark.read.format(\"csv\") \\\n",
    ".option(\"header\",\"True\") \\\n",
    ".option(\"inferSchema\",\"True\") \\\n",
    ".load(\"hdfs:///user/hdfs/simple_data.csv\")"
   ]
  },
  {
   "cell_type": "code",
   "execution_count": 3,
   "metadata": {},
   "outputs": [
    {
     "name": "stdout",
     "output_type": "stream",
     "text": [
      "+------+--------+---+-----------+--------+-----------+\n",
      "|sirano|    isim|yas|     meslek|   sehir|aylik_gelir|\n",
      "+------+--------+---+-----------+--------+-----------+\n",
      "|     1|   Cemal| 35|       Isci|  Ankara|       3500|\n",
      "|     2|   Ceyda| 42|      Memur| Kayseri|       4200|\n",
      "|     3|   Timur| 30|   Müzisyen|Istanbul|       9000|\n",
      "|     4|   Burcu| 29|Pazarlamaci|  Ankara|       4200|\n",
      "|     5| Yasemin| 23|Pazarlamaci|   Bursa|       4800|\n",
      "|     6|     Ali| 33|      Memur|  Ankara|       4250|\n",
      "|     7|   Dilek| 29|Pazarlamaci|Istanbul|       7300|\n",
      "|     8|   Murat| 31|   Müzisyen|Istanbul|      12000|\n",
      "|     9|   Ahmet| 33|     Doktor|  Ankara|      18000|\n",
      "|    10|Muhittin| 46|     Berber|Istanbul|      12000|\n",
      "|    11|Hicaziye| 47| Tuhafiyeci|  Ankara|       4800|\n",
      "|    12|   Harun| 43|    Tornacı|  Ankara|       4200|\n",
      "|    13|   Hakkı| 33|      Memur|   Çorum|       3750|\n",
      "|    14| Gülizar| 37|     Doktor|   İzmir|      14250|\n",
      "|    15|  Şehmuz| 41|   Müzisyen|  Ankara|       8700|\n",
      "+------+--------+---+-----------+--------+-----------+\n",
      "\n"
     ]
    }
   ],
   "source": [
    "df.show()"
   ]
  },
  {
   "cell_type": "code",
   "execution_count": null,
   "metadata": {},
   "outputs": [],
   "source": []
  }
 ],
 "metadata": {
  "kernelspec": {
   "display_name": "Python 3",
   "language": "python",
   "name": "python3"
  },
  "language_info": {
   "codemirror_mode": {
    "name": "ipython",
    "version": 3
   },
   "file_extension": ".py",
   "mimetype": "text/x-python",
   "name": "python",
   "nbconvert_exporter": "python",
   "pygments_lexer": "ipython3",
   "version": "3.6.7"
  }
 },
 "nbformat": 4,
 "nbformat_minor": 2
}
